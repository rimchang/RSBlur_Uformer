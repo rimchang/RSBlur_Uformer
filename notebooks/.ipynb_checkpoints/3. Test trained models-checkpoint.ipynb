{
 "cells": [
  {
   "cell_type": "markdown",
   "id": "f0343750",
   "metadata": {},
   "source": [
    "# Training"
   ]
  },
  {
   "cell_type": "code",
   "execution_count": null,
   "id": "ed5414a2",
   "metadata": {},
   "outputs": [],
   "source": [
    "# require two of 3090, 4~5 days\n",
    "\n",
    "# ! python3 ../Uformer-RSBlur/train/train_RealisticGoProABMEDeblur.py --arch Uformer_B --batch_size 8 --gpu '0' \\\n",
    "# --train_ps 256 --train_dir ../Uformer-RSBlur/datasets/GOPRO_INTER_ABME \\\n",
    "# --val_ps 256 --val_dir ../Uformer-RSBlur/datasets/RealBlurJ_test --env _RealisticGoProABMEDeblur \\\n",
    "# --mode deblur --nepoch 1500 --checkpoint 100 --dataset GoPro --warmup --train_workers 12\n",
    "\n",
    "# ! python3 ../Uformer-RSBlur/train/train_NaiveGoProABMEDeblur.py --arch Uformer_B --batch_size 8 --gpu '0' \\\n",
    "# --train_ps 256 --train_dir ../Uformer-RSBlur/datasets/GOPRO_INTER_ABME \\\n",
    "# --val_ps 256 --val_dir ../Uformer-RSBlur/datasets/RealBlurJ_test --env _NaiveGoProABMEDeblur \\\n",
    "# --mode deblur --nepoch 1500 --checkpoint 100 --dataset GoPro --warmup --train_workers 12"
   ]
  },
  {
   "cell_type": "markdown",
   "id": "cc277b43",
   "metadata": {},
   "source": [
    "# Test trained models"
   ]
  },
  {
   "cell_type": "markdown",
   "id": "2dd1524f",
   "metadata": {},
   "source": [
    "| Models | Train set | Realistic Pipeline | PSNR / SSIM    |\n",
    "| :---:|:---:  |  :---:|:---:|\n",
    "| Uformer-B |   GoPro |     | 00.00 / 0.0000 |\n",
    "| Uformer-B |  GoPro  |✓     | 30.98 / 0.9067 |\n",
    "| Uformer-B | GoPro_U |     | 31.19 / 0.9143 |\n",
    "| Uformer-B | GoPro_U |  ✓   | 28.93 / 0.8673 |\n"
   ]
  },
  {
   "cell_type": "code",
   "execution_count": null,
   "id": "f33b712a",
   "metadata": {},
   "outputs": [],
   "source": [
    "import os\n",
    "import sys\n",
    "import math\n",
    "import matplotlib.pyplot as plt\n",
    "\n",
    "sys.path.insert(0, \"../Uformer-RSBlur\")\n",
    "from dataset.dataset_motiondeblur import *\n",
    "import utils\n",
    "\n",
    "def expand2square_reflect(timg, factor=128):\n",
    "    _, _, h, w = timg.size()\n",
    "    X = int(math.ceil(max(h, w) / float(factor)) * factor)\n",
    "\n",
    "    pad_w = X - w\n",
    "    pad_h = X - h\n",
    "\n",
    "    img = F.pad(timg, (pad_w // 2, pad_w - pad_w // 2, pad_h // 2, pad_h - pad_h // 2), 'reflect')\n",
    "    mask = torch.zeros(1, 1, X, X).type_as(timg)\n",
    "\n",
    "    mask[:, :, ((X - h) // 2):((X - h) // 2 + h), ((X - w) // 2):((X - w) // 2 + w)].fill_(1)\n",
    "\n",
    "    return img, mask\n",
    "\n",
    "class Args():\n",
    "    \n",
    "    def __init__(self):\n",
    "        pass\n",
    "\n",
    "# 시각화 코드\n",
    "def viz_two_images(img1, img2, title1, title2):\n",
    "    fig = plt.figure(figsize=(16, 16))\n",
    "    rows = 1; cols = 2\n",
    "\n",
    "    ax1 = fig.add_subplot(rows, cols, 1)\n",
    "    ax1.set_title(title1)\n",
    "    \n",
    "    if len(img1.shape) == 2:\n",
    "        image1 = ax1.imshow(img1, 'gray')\n",
    "    else:\n",
    "        image1 = ax1.imshow(img1)\n",
    "\n",
    "    ax2 = fig.add_subplot(rows, cols, 2)\n",
    "    ax2.set_title(title2)\n",
    "    \n",
    "    if len(img2.shape) == 2:\n",
    "        image2 = ax2.imshow(img2, 'gray')\n",
    "    else:\n",
    "        image2 = ax2.imshow(img2)\n",
    "    fig.tight_layout()\n",
    "    plt.show()\n",
    "    \n",
    "rgb_dir_test = os.path.join('../Uformer-RSBlur/datasets', 'RealBlurJ_test', 'test', 'input')\n",
    "test_dataset = get_test_data(rgb_dir_test, img_options={})"
   ]
  },
  {
   "cell_type": "code",
   "execution_count": null,
   "id": "2cd160a1",
   "metadata": {},
   "outputs": [],
   "source": [
    "opt = Args()\n",
    "opt.arch = 'Uformer_B'\n",
    "opt.train_ps = 256\n",
    "opt.dd_in = 3\n",
    "\n",
    "# training with our pipeline, 31.19 PSNR\n",
    "weight_path = '../Uformer-RSBlur/logs/Uformer_B_RealisticGoProUDeblur.pth'\n",
    "model_restoration = utils.get_arch(opt)\n",
    "utils.load_checkpoint(model_restoration, weight_path)\n",
    "model_restoration.cuda()\n",
    "model_restoration.eval()\n",
    "\n",
    "# naive training, 28.93 PSNR\n",
    "weight_path = '../Uformer-RSBlur/logs/Uformer_B_NaiveGoProUDeblur.pth'\n",
    "model_restoration_naive = utils.get_arch(opt)\n",
    "utils.load_checkpoint(model_restoration_naive, weight_path)\n",
    "model_restoration_naive.cuda()\n",
    "model_restoration_naive.eval()"
   ]
  },
  {
   "cell_type": "code",
   "execution_count": null,
   "id": "fcf94a45",
   "metadata": {},
   "outputs": [],
   "source": [
    "data_test = test_dataset[18]\n",
    "\n",
    "with torch.no_grad():\n",
    "    torch.cuda.ipc_collect()\n",
    "    torch.cuda.empty_cache()\n",
    "\n",
    "    input_    = data_test[0].cuda().unsqueeze(0)\n",
    "    _, _, h, w = input_.shape\n",
    "    filenames = data_test[1]\n",
    "\n",
    "    input_, mask = expand2square_reflect(input_, factor=128)\n",
    "\n",
    "    restored = model_restoration(input_)\n",
    "    restored = torch.masked_select(restored,mask.bool()).reshape(1,3,h,w)\n",
    "    restored = torch.clamp(restored,0,1).cpu().numpy().squeeze().transpose((1,2,0))\n",
    "    \n",
    "    restored_naive = model_restoration_naive(input_)\n",
    "    restored_naive = torch.masked_select(restored_naive,mask.bool()).reshape(1,3,h,w)\n",
    "    restored_naive = torch.clamp(restored_naive,0,1).cpu().numpy().squeeze().transpose((1,2,0))\n",
    "    \n",
    "viz_two_images(restored, restored_naive, 'restored', 'restored_naive')"
   ]
  },
  {
   "cell_type": "code",
   "execution_count": null,
   "id": "4526bc84",
   "metadata": {},
   "outputs": [],
   "source": []
  }
 ],
 "metadata": {
  "kernelspec": {
   "display_name": "Python 3 (ipykernel)",
   "language": "python",
   "name": "python3"
  },
  "language_info": {
   "codemirror_mode": {
    "name": "ipython",
    "version": 3
   },
   "file_extension": ".py",
   "mimetype": "text/x-python",
   "name": "python",
   "nbconvert_exporter": "python",
   "pygments_lexer": "ipython3",
   "version": "3.7.7"
  }
 },
 "nbformat": 4,
 "nbformat_minor": 5
}
